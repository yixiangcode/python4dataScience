{
  "nbformat": 4,
  "nbformat_minor": 0,
  "metadata": {
    "colab": {
      "provenance": [],
      "collapsed_sections": [
        "adUgT0o0nu7L"
      ],
      "authorship_tag": "ABX9TyN4cQL7cSJ0mOV4CpHF94U5",
      "include_colab_link": true
    },
    "kernelspec": {
      "name": "python3",
      "display_name": "Python 3"
    },
    "language_info": {
      "name": "python"
    }
  },
  "cells": [
    {
      "cell_type": "markdown",
      "metadata": {
        "id": "view-in-github",
        "colab_type": "text"
      },
      "source": [
        "<a href=\"https://colab.research.google.com/github/yixiangcode/python4dataScience/blob/main/python4ds.ipynb\" target=\"_parent\"><img src=\"https://colab.research.google.com/assets/colab-badge.svg\" alt=\"Open In Colab\"/></a>"
      ]
    },
    {
      "cell_type": "markdown",
      "source": [
        "<h1>Python for Data Science</h1>"
      ],
      "metadata": {
        "id": "gQQuxHFldzBG"
      }
    },
    {
      "cell_type": "markdown",
      "source": [
        "# Chapter 1 Introuduction to Python"
      ],
      "metadata": {
        "id": "adUgT0o0nu7L"
      }
    },
    {
      "cell_type": "markdown",
      "source": [
        "1. Write a program that asks the user for their name and birth year. Then, print a greeting message that includes their name and age."
      ],
      "metadata": {
        "id": "MGIX9eNNdslY"
      }
    },
    {
      "cell_type": "code",
      "execution_count": null,
      "metadata": {
        "colab": {
          "base_uri": "https://localhost:8080/"
        },
        "id": "uyzQAQe8P9ve",
        "outputId": "8458bf8f-0f2d-4aa8-ea59-f6271bfe8b02"
      },
      "outputs": [
        {
          "output_type": "stream",
          "name": "stdout",
          "text": [
            "Please enter your name: YX\n",
            "Please enter your birth year: 2004\n",
            "Hi YX, you are 21 years old.\n"
          ]
        }
      ],
      "source": [
        "name = input(\"Please enter your name: \")\n",
        "year = int(input(\"Please enter your birth year: \"))\n",
        "age = 2025 - year\n",
        "print(f\"Hi {name}, you are {age} years old.\")\n"
      ]
    },
    {
      "cell_type": "markdown",
      "source": [
        "2. Write a program that takes two numbers as input from the user, performs addition, subtraction, multiplication, and division, and prints the results."
      ],
      "metadata": {
        "id": "TPQ_vU71fHXO"
      }
    },
    {
      "cell_type": "code",
      "source": [
        "num1 = int(input(\"Please enter first number: \"))\n",
        "num2 = int(input(\"Please enter second number:\"))\n",
        "print(f\"Addition: {num1 + num2}\")\n",
        "print(f\"Subtraction: {num1 - num2}\")\n",
        "print(f\"Multiplication: {num1 * num2}\")\n",
        "print(f\"Division: {num1 / num2}\")"
      ],
      "metadata": {
        "colab": {
          "base_uri": "https://localhost:8080/"
        },
        "id": "gqhQqKrVfKmM",
        "outputId": "85ee5b81-f5b7-4fc2-a315-6541d09037ed"
      },
      "execution_count": null,
      "outputs": [
        {
          "output_type": "stream",
          "name": "stdout",
          "text": [
            "Please enter first number: 5\n",
            "Please enter second number:10\n",
            "Addition: 15\n",
            "Subtraction: -5\n",
            "Multiplication: 50\n",
            "Division: 0.5\n"
          ]
        }
      ]
    },
    {
      "cell_type": "markdown",
      "source": [
        "3. Write a program that converts temperature from Celsius to Fahrenheit. The user should input the temperature in Celsius, and the program should print the equivalent temperature in Fahrenheit based on the formula:\n",
        "\n",
        "  Fahrenheit=Celcius × 9 / 5 + 32"
      ],
      "metadata": {
        "id": "VjhY5womRAwr"
      }
    },
    {
      "cell_type": "code",
      "source": [
        "celsius = float(input(\"Please enter temperature in Celsius: \"))\n",
        "fahrenheit = celsius * 9 / 5 + 32\n",
        "print(f\"The celsius temparature {celsius} in fahrenheit is {fahrenheit}.\")"
      ],
      "metadata": {
        "id": "gRzM_EC7REU8",
        "colab": {
          "base_uri": "https://localhost:8080/"
        },
        "outputId": "b106e592-8980-4110-b57b-fdceef1576d9"
      },
      "execution_count": null,
      "outputs": [
        {
          "output_type": "stream",
          "name": "stdout",
          "text": [
            "Please enter temperature in Celsius: 35\n",
            "The celsius temparature 35.0 in fahrenheit is 95.0.\n"
          ]
        }
      ]
    },
    {
      "cell_type": "markdown",
      "source": [
        "4. Ask for an employee’s basic salary, allowances, and deductions, and calculate their net monthly salary based on the formula: Net Monthly Salary=Basic Salary+Allowances-Deductions"
      ],
      "metadata": {
        "id": "XPljaoC7RSaS"
      }
    },
    {
      "cell_type": "code",
      "source": [
        "basic = int(input(\"Please enter your basic salary: \"))\n",
        "allowances = int(input(\"Please enter your allowances: \"))\n",
        "deductions = int(input(\"Please enter your deductions: \"))\n",
        "print(f\"Your net monthly salary is {basic + allowances - deductions}.\")"
      ],
      "metadata": {
        "id": "FuSLON9iRWzK",
        "colab": {
          "base_uri": "https://localhost:8080/"
        },
        "outputId": "448253a7-3dce-4dbf-dfff-b56e1cbe91b7"
      },
      "execution_count": null,
      "outputs": [
        {
          "output_type": "stream",
          "name": "stdout",
          "text": [
            "Please enter your basic salary: 5000\n",
            "Please enter your allowances: 1000\n",
            "Please enter your deductions: 500\n",
            "Your net monthly salary is 5500\n"
          ]
        }
      ]
    },
    {
      "cell_type": "markdown",
      "source": [
        "5. Given a loan amount, interest rate, and loan tenure, calculate the monthly instalments and total interest payable based on the following formula:\n",
        "\n",
        "  Monthly Installment=Pr⁡〖(1+r)^n 〗/((1+r)^n-1)\n",
        "Total Interest Payable=Monthly Installment×n-P\n",
        "\n",
        "  Given that P refers to the loan amount, r is the monthly interest rate and n is the total number of loan tenure in months."
      ],
      "metadata": {
        "id": "z-Mkob-LRXsK"
      }
    },
    {
      "cell_type": "code",
      "source": [
        "print()"
      ],
      "metadata": {
        "id": "tJ2GF5ZoRd-S"
      },
      "execution_count": null,
      "outputs": []
    },
    {
      "cell_type": "markdown",
      "source": [
        "# Chapter 2 Control Structures"
      ],
      "metadata": {
        "id": "z5y4dDgWn0yN"
      }
    },
    {
      "cell_type": "markdown",
      "source": [
        "1. Write a program that takes a number as input and determines whether it’s even or odd."
      ],
      "metadata": {
        "id": "GbROATMmn8AU"
      }
    },
    {
      "cell_type": "code",
      "source": [
        "while True:\n",
        "  num = int(input())\n",
        "  if num == 0:\n",
        "    break\n",
        "  elif num % 2 == 0:\n",
        "    print(f\"{num} is even number.\")\n",
        "  else:\n",
        "    print(f\"{num} is odd number.\")\n"
      ],
      "metadata": {
        "colab": {
          "base_uri": "https://localhost:8080/"
        },
        "id": "mKev2bYLn7Mt",
        "outputId": "6a115f9f-cf3a-47c8-cc9a-f485803864a5"
      },
      "execution_count": null,
      "outputs": [
        {
          "name": "stdout",
          "output_type": "stream",
          "text": [
            "5\n",
            "5 is odd number.\n",
            "6\n",
            "6 is even number.\n",
            "0\n"
          ]
        }
      ]
    },
    {
      "cell_type": "markdown",
      "source": [
        "2. Develop a game where the computer generates a random number between 1 and 100, and the user has to guess it. Provide feedback to the user if their guess is too high, too low, or correct."
      ],
      "metadata": {
        "id": "OmFmtscrqwtk"
      }
    },
    {
      "cell_type": "code",
      "source": [
        "import random\n",
        "num = random.randint(1, 101)\n",
        "while True:\n",
        "  guess = int(input(\"Please guess a number: \"))\n",
        "  if guess > num:\n",
        "    print(\"Please guess smaller.\")\n",
        "  elif guess < num:\n",
        "    print(\"Please guess bigger.\")\n",
        "  else:\n",
        "    print(\"You are right.\")\n",
        "    break"
      ],
      "metadata": {
        "colab": {
          "base_uri": "https://localhost:8080/"
        },
        "id": "ZAtC5JIjrsIS",
        "outputId": "612d34cc-68c1-4378-9af1-3f792ac81b66"
      },
      "execution_count": null,
      "outputs": [
        {
          "output_type": "stream",
          "name": "stdout",
          "text": [
            "Please guess a number: 50\n",
            "Please guess bigger.\n",
            "Please guess a number: 75\n",
            "Please guess smaller.\n",
            "Please guess a number: 65\n",
            "Please guess bigger.\n",
            "Please guess a number: 68\n",
            "Please guess bigger.\n",
            "Please guess a number: 70\n",
            "Please guess bigger.\n",
            "Please guess a number: 72\n",
            "Please guess bigger.\n",
            "Please guess a number: 74\n",
            "Please guess smaller.\n",
            "Please guess a number: 73\n",
            "You are right.\n"
          ]
        }
      ]
    },
    {
      "cell_type": "markdown",
      "source": [
        "3. Write a program that takes a household’s daily water consumption in litres as input. Use branching statements to print a category message based on these thresholds:\n",
        "\n",
        "  ![image.png](data:image/png;base64,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)"
      ],
      "metadata": {
        "id": "B7TgdaCYq3kj"
      }
    },
    {
      "cell_type": "code",
      "source": [
        "water = int(input(\"Please enter your daily water consumption: \"))\n",
        "if water < 100:\n",
        "  print(\"Excellent! Your household is a Water Saver\")\n",
        "elif water > 200:\n",
        "  print(\"High consumption. Consider water-saving tips!\")\n",
        "else:\n",
        "  print(\"Good job! Moderate consumption.\")"
      ],
      "metadata": {
        "colab": {
          "base_uri": "https://localhost:8080/"
        },
        "id": "-91FK-NSvXQC",
        "outputId": "5a35cf90-307e-4138-c377-597ccb2185d8"
      },
      "execution_count": null,
      "outputs": [
        {
          "output_type": "stream",
          "name": "stdout",
          "text": [
            "Please enter your daily water consumption: 200\n",
            "Good job! Moderate consumption.\n"
          ]
        }
      ]
    },
    {
      "cell_type": "markdown",
      "source": [
        "4. You are given a list representing the plastic waste collected each day of the week: [45.5, 52.0, 38.7, 61.2, 49.0, 55.1, 40.8]. The daily target is 50 kg. Write a program containing a loop statement that iterates through this list. For each day’s collection, if the plastic collection for that day meets or exceeds 50 kg, print: “Day X: Target Met! Collected Y kg.” Otherwise, print: “Day X: Below Target! Collected Y kg Only.”"
      ],
      "metadata": {
        "id": "GkdHXoA-oHmg"
      }
    },
    {
      "cell_type": "code",
      "source": [
        "plastic = [45.5, 52.0, 38.7, 61.2, 49.0, 55.1, 40.8]\n",
        "day = 1\n",
        "for i in plastic:\n",
        "  if i >= 50:\n",
        "    print(f\"Day {day}: Target Met! Collected {i} kg.\")\n",
        "  else:\n",
        "    print(f\"Day {day}: Below Target! Collected {i} kg Only.\")\n",
        "  day += 1\n"
      ],
      "metadata": {
        "colab": {
          "base_uri": "https://localhost:8080/"
        },
        "id": "j--X8pSFwgFw",
        "outputId": "46025537-9abb-437e-81b6-43b91958d6d2"
      },
      "execution_count": null,
      "outputs": [
        {
          "output_type": "stream",
          "name": "stdout",
          "text": [
            "Day 1: Below Target! Collected 45.5 kg Only.\n",
            "Day 2: Target Met! Collected 52.0 kg.\n",
            "Day 3: Below Target! Collected 38.7 kg Only.\n",
            "Day 4: Target Met! Collected 61.2 kg.\n",
            "Day 5: Below Target! Collected 49.0 kg Only.\n",
            "Day 6: Target Met! Collected 55.1 kg.\n",
            "Day 7: Below Target! Collected 40.8 kg Only.\n"
          ]
        }
      ]
    },
    {
      "cell_type": "markdown",
      "source": [
        "5. Imagine a smart home system that monitors the energy usage of several appliances. You have a list of hourly energy consumption readings (in kWh) for a specific appliance over a day: [0.5, 0.6, 0.7, 0.8, 1.0, 1.2, 1.5, 1.8, 2.0, 2.1, 1.9, 1.7, 1.4, 1.1, 0.9, 0.7, 0.6, 0.5, 0.4, 0.3, 0.2, 0.2, 0.1, 0.1]. The peak hour threshold for a single appliance is 1.5 kWh. Write a program to:\n",
        "\n",
        "  - Identify and count how many hours the appliance exceeded the peak hour threshold.\n",
        "\n",
        "  - Print a message for each hour that exceeded the threshold. For example, if consumption is greater than 1.5 kWh but less than or equal to 1.8 kWh, print “Consider reducing usage.” If greater than  1.8 kWh, print “High usage detected! Critical reduction needed.”"
      ],
      "metadata": {
        "id": "5GUhmpAZoHjx"
      }
    },
    {
      "cell_type": "code",
      "source": [
        "consumption = [0.5, 0.6, 0.7, 0.8, 1.0, 1.2, 1.5, 1.8, 2.0, 2.1, 1.9, 1.7, 1.4, 1.1, 0.9, 0.7, 0.6, 0.5, 0.4, 0.3, 0.2, 0.2, 0.1, 0.1]\n",
        "total = 0\n",
        "for i in consumption:\n",
        "  if i > 1.5 and i <= 1.8:\n",
        "    print(\"Consider reducing usage.\")\n",
        "    total += 1\n",
        "  elif i > 1.8:\n",
        "    print(\"High usage detected! Critical reduction needed.\")\n",
        "    total += 1\n",
        "print(total)"
      ],
      "metadata": {
        "colab": {
          "base_uri": "https://localhost:8080/"
        },
        "id": "cU99Tzg8y1ic",
        "outputId": "f9f45408-8518-4bbb-c207-3a27d33f78af"
      },
      "execution_count": null,
      "outputs": [
        {
          "output_type": "stream",
          "name": "stdout",
          "text": [
            "Consider reducing usage.\n",
            "Consider reducing usage.\n",
            "High usage detected! Critical reduction needed.\n",
            "High usage detected! Critical reduction needed.\n",
            "High usage detected! Critical reduction needed.\n",
            "Consider reducing usage.\n",
            "6\n"
          ]
        }
      ]
    },
    {
      "cell_type": "markdown",
      "source": [
        "6. Write a program that takes the income of each household member as input. Find the mean income. Then, use branching statements to determine and print the corresponding Malaysian income group (and sub-group) for the calculated mean household income based on the table below:\n",
        "\n",
        "  ![image.png](data:image/png;base64,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)\n",
        "    ![image.png](data:image/png;base64,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)"
      ],
      "metadata": {
        "id": "n8uwNlw6oHb4"
      }
    },
    {
      "cell_type": "code",
      "source": [
        "income_list = []\n",
        "while True:\n",
        "  income = int(input())\n",
        "  if income == 0:\n",
        "    break\n",
        "  income_list.append(income)\n",
        "\n",
        "total = 0\n",
        "\n",
        "for i in income_list:\n",
        "  total += i\n",
        "\n",
        "total = total / len(income_list)\n",
        "\n",
        "if total > 15039:\n",
        "  print(\"T2\")\n",
        "elif total >= 10960:\n",
        "  print(\"T1\")\n",
        "elif total >= 8700:\n",
        "  print(\"M4\")\n",
        "elif total >= 7110:\n",
        "  print(\"M3\")\n",
        "elif total >= 5880:\n",
        "  print(\"M2\")\n",
        "elif total >= 4850:\n",
        "  print(\"M1\")\n",
        "elif total >= 3970:\n",
        "  print(\"B4\")\n",
        "elif total >= 3170:\n",
        "  print(\"B3\")\n",
        "elif total >= 2500:\n",
        "  print(\"B2\")\n",
        "else:\n",
        "  print(\"B1\")"
      ],
      "metadata": {
        "colab": {
          "base_uri": "https://localhost:8080/"
        },
        "id": "qn9vh17d0As4",
        "outputId": "795fb9a1-1942-4b73-ac6b-721f4318a86b"
      },
      "execution_count": null,
      "outputs": [
        {
          "output_type": "stream",
          "name": "stdout",
          "text": [
            "2000\n",
            "3000\n",
            "4000\n",
            "0\n",
            "B2\n"
          ]
        }
      ]
    },
    {
      "cell_type": "markdown",
      "source": [
        "7. Write a program that continually prompts the user to enter a feedback rating (from 1 to 5). The program should use a while loop and stop prompting when the user enters ‘0’ (zero). After the user indicates they are finished, print the total number of “Excellent” ratings (5), “Good” ratings (4), “Average” ratings (3), “Poor” ratings (2) and “Very Poor” ratings (1) received.\n",
        "\n",
        "\n",
        "  Example Input/Output:\n",
        "\n",
        "   - Input: 5, 3, 1, 5, 0\n",
        "\n",
        "   - Output: Total Excellent Ratings: 2, Total Average Ratings: 1, Total Poor Ratings: 1:"
      ],
      "metadata": {
        "id": "w5XJnYeupeue"
      }
    },
    {
      "cell_type": "code",
      "source": [
        "rating_list = [0, 0, 0, 0, 0]\n",
        "while True:\n",
        "    rating = int(input())\n",
        "    if rating == 0:\n",
        "      break\n",
        "    elif rating == 5:\n",
        "      rating_list[0] += 1\n",
        "    elif rating == 4:\n",
        "      rating_list[1] += 1\n",
        "    elif rating == 3:\n",
        "      rating_list[2] += 1\n",
        "    elif rating == 2:\n",
        "      rating_list[3] += 1\n",
        "    elif rating == 1:\n",
        "      rating_list[4] += 1\n",
        "\n",
        "if rating_list[0] != 0:\n",
        "  print(f\"Total Excellent Ratings: {rating_list[0]}\", end = \"\")\n",
        "if rating_list[1] != 0:\n",
        "  print(f\", Total Good Ratings: {rating_list[1]}\", end = \"\")\n",
        "if rating_list[2] != 0:\n",
        "  print(f\", Total Average Ratings: {rating_list[2]}\", end = \"\")\n",
        "if rating_list[3] != 0:\n",
        "  print(f\", Total Poor Ratings: {rating_list[3]}\", end = \"\")\n",
        "if rating_list[4] != 0:\n",
        "  print(f\", Total Very Poor Ratings: {rating_list[4]}\")"
      ],
      "metadata": {
        "colab": {
          "base_uri": "https://localhost:8080/"
        },
        "id": "fayZZudi2r55",
        "outputId": "331eeda2-0a4a-4ca3-e5eb-e21de496a4eb"
      },
      "execution_count": null,
      "outputs": [
        {
          "output_type": "stream",
          "name": "stdout",
          "text": [
            "5\n",
            "3\n",
            "1\n",
            "5\n",
            "0\n",
            "Total Excellent Ratings: 2, Total Average Ratings: 1, Total Very Poor Ratings: 1\n"
          ]
        }
      ]
    },
    {
      "cell_type": "markdown",
      "source": [],
      "metadata": {
        "id": "ESs--otRplpq"
      }
    },
    {
      "cell_type": "markdown",
      "source": [
        "# Chapter 3 Structured Types"
      ],
      "metadata": {
        "id": "ssTLxk25pl_j"
      }
    },
    {
      "cell_type": "markdown",
      "source": [
        "1. Write a program to simulate the Magic 8 Ball. The message options are ‘It is certain’, ‘It is decidedly so’, ‘Yes definitely’, ‘Reply hazy try again’, ‘Ask again later’, ‘Concentrate and ask again’, ‘My reply is no’, ‘Outlook not so good’, and ‘Very doubtful’. Prompt the user to ask for any questions and generate an answer for the user."
      ],
      "metadata": {
        "id": "LK6PbpnEprMS"
      }
    },
    {
      "cell_type": "code",
      "source": [],
      "metadata": {
        "id": "nHnlqUpcpy2L"
      },
      "execution_count": null,
      "outputs": []
    },
    {
      "cell_type": "markdown",
      "source": [
        "2. A global health organization collects basic demographic data for patients in remote clinics. They need to quickly store and retrieve this information. Your task is to:  \n",
        "\n",
        "  Create a Python list called patient_records.\n",
        "\n",
        "  Add at least three tuples to this list, where each tuple represents a patient and contains (patient_id, age, gender). Example: (101, 35, 'Female').\n",
        "\n",
        "  Print the entire patient_records list.\n",
        "\n",
        "  Print the age of the second patient in the list.\n",
        "\n",
        "  Add a new patient (104, 50, 'Male') to the end of the patient_records list.\n",
        "\n",
        "  Print the updated patient_records list."
      ],
      "metadata": {
        "id": "_EQuZ3yGpzMq"
      }
    },
    {
      "cell_type": "code",
      "source": [],
      "metadata": {
        "id": "SvYUSskfp5fi"
      },
      "execution_count": null,
      "outputs": []
    },
    {
      "cell_type": "markdown",
      "source": [
        "3. A conservationist is tracking species counts in different biodiversity hotspots. They use a list to keep track of daily observations. You are given a list of daily bird counts observed in a specific forest area: daily_bird_counts = [25, 30, 18, 42, 20, 35, 28]. Your task is to:  \n",
        "\n",
        "  Calculate and print the total_birds_observed over the week.\n",
        "\n",
        "  Find and print the highest_count observed on any single day.\n",
        "\n",
        "  Add two new observations to the list: 50 (a very good day) and 15 (a quiet day).\n",
        "\n",
        "  Print the updated daily_bird_counts list.\n",
        "\n",
        "  Hint: https://www.w3schools.com/python/python_ref_functions.asp  "
      ],
      "metadata": {
        "id": "sU8-dZycp4Iq"
      }
    },
    {
      "cell_type": "code",
      "source": [],
      "metadata": {
        "id": "kbqVPcaJp33K"
      },
      "execution_count": null,
      "outputs": []
    },
    {
      "cell_type": "markdown",
      "source": [
        "4. An emergency response team needs to quickly know the stock of essential resources available at different depots. They use a simple system where each resource has a unique code and current quantity. Create a Python dictionary called depot_stock to store resource quantities. The keys should be resource_code (string) and the values should be quantity (integer). Initialise it with: {\"Bandages\": 150, \"Water Bottles\": 500, \"First Aid Kits\": 75}. Your task is to:  \n",
        "\n",
        "- Print the current quantity of \"Water Bottles\".\n",
        "\n",
        "- Update the quantity of \"Bandages\" to 120.\n",
        "\n",
        "- Add a new resource \"Blankets\" with a quantity of 200.\n",
        "\n",
        "- Print the depot_stock dictionary after all updates."
      ],
      "metadata": {
        "id": "5r4rRIfOqCB7"
      }
    },
    {
      "cell_type": "code",
      "source": [],
      "metadata": {
        "id": "twLj_66uqNCV"
      },
      "execution_count": null,
      "outputs": []
    },
    {
      "cell_type": "markdown",
      "source": [
        "5. Create a list of dictionaries to represent employees. Each dictionary should contain employee ID, name, and department information. Implement functions to add, remove, and update employee information."
      ],
      "metadata": {
        "id": "PJv-9LaCqNgy"
      }
    },
    {
      "cell_type": "code",
      "source": [],
      "metadata": {
        "id": "9STc73hjqO3i"
      },
      "execution_count": null,
      "outputs": []
    },
    {
      "cell_type": "markdown",
      "source": [
        "6. A research firm conducts polls on public sentiment regarding a new city policy. They record responses as lists of sentiment scores (e.g., -1 for negative, 0 for neutral, 1 for positive) for different demographics. You have a list representing sentiment scores from different groups:\n",
        "\n",
        "  group_sentiments = [  \n",
        "\n",
        "                     [-1, 0, 1, -1, 0],   # Group A\n",
        "\n",
        "                     [1, 1, 0, 1],         # Group B\n",
        "\n",
        "                     [0, -1, -1, 0, -1, 0] # Group C\n",
        "\n",
        "  ]\n",
        "\n",
        "  Write a program that iterates through group_sentiments. For each group:\n",
        "\n",
        "  - Calculate and print the average_sentiment_score.\n",
        "\n",
        "  - Categorise and print the group’s overall sentiment as \"Predominantly Positive\", \"Neutral\", or \"Predominantly Negative\" based on its average score:\n",
        "\n",
        "  ![image.png](data:image/png;base64,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)\n",
        "  - Store the overall sentiment of each group in a dictionary."
      ],
      "metadata": {
        "id": "mz8sw6muqVZT"
      }
    },
    {
      "cell_type": "code",
      "source": [],
      "metadata": {
        "id": "17AhdzxAq8mj"
      },
      "execution_count": null,
      "outputs": []
    },
    {
      "cell_type": "markdown",
      "source": [
        "7. A city planning department maintains an inventory of urban green spaces. For each park, they record its name, size, and amenities. You have the following parallel lists representing park data:\n",
        "\n",
        "  park_names = [\"Central Park\", \"Riverside Gardens\", \"Maple Grove\"]\n",
        "\n",
        "  park_sizes_sqm = [15000, 8000, 5000]\n",
        "\n",
        "  park_amenities = [\n",
        "\n",
        " [\"Playground\", \"Fountain\"], # Central Park\n",
        "\n",
        "                 [\"Walking Trail\"],          # Riverside Gardens\n",
        "\n",
        "                 [\"Picnic Tables\", \"BBQ Area\", \"Playground\"] # Maple Grove\n",
        "\n",
        "  ]\n",
        "\n",
        "  Write a program to:\n",
        "\n",
        "  - Find and print the name of the largest park.\n",
        "\n",
        "  - Iterate through the parks and print the name of any park that has a \"Playground\" amenity.\n",
        "\n",
        "  - Calculate and print the average size of all parks."
      ],
      "metadata": {
        "id": "7xnTVVvhrA37"
      }
    },
    {
      "cell_type": "code",
      "source": [],
      "metadata": {
        "id": "r6QuJF9rq9Vj"
      },
      "execution_count": null,
      "outputs": []
    }
  ]
}