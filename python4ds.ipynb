{
  "nbformat": 4,
  "nbformat_minor": 0,
  "metadata": {
    "colab": {
      "provenance": [],
      "authorship_tag": "ABX9TyMmEajlCznaYFket3SnI1IP",
      "include_colab_link": true
    },
    "kernelspec": {
      "name": "python3",
      "display_name": "Python 3"
    },
    "language_info": {
      "name": "python"
    }
  },
  "cells": [
    {
      "cell_type": "markdown",
      "metadata": {
        "id": "view-in-github",
        "colab_type": "text"
      },
      "source": [
        "<a href=\"https://colab.research.google.com/github/yixiangcode/python4dataScience/blob/main/python4ds.ipynb\" target=\"_parent\"><img src=\"https://colab.research.google.com/assets/colab-badge.svg\" alt=\"Open In Colab\"/></a>"
      ]
    },
    {
      "cell_type": "markdown",
      "source": [
        "<h1>Chapter 1 Introduction to Python</h1>"
      ],
      "metadata": {
        "id": "gQQuxHFldzBG"
      }
    },
    {
      "cell_type": "markdown",
      "source": [
        "1. Write a program that asks the user for their name and birth year. Then, print a greeting message that includes their name and age."
      ],
      "metadata": {
        "id": "MGIX9eNNdslY"
      }
    },
    {
      "cell_type": "code",
      "execution_count": null,
      "metadata": {
        "colab": {
          "base_uri": "https://localhost:8080/"
        },
        "id": "uyzQAQe8P9ve",
        "outputId": "8458bf8f-0f2d-4aa8-ea59-f6271bfe8b02"
      },
      "outputs": [
        {
          "output_type": "stream",
          "name": "stdout",
          "text": [
            "Please enter your name: YX\n",
            "Please enter your birth year: 2004\n",
            "Hi YX, you are 21 years old.\n"
          ]
        }
      ],
      "source": [
        "name = input(\"Please enter your name: \")\n",
        "year = int(input(\"Please enter your birth year: \"))\n",
        "age = 2025 - year\n",
        "print(f\"Hi {name}, you are {age} years old.\")\n"
      ]
    },
    {
      "cell_type": "markdown",
      "source": [
        "2. Write a program that takes two numbers as input from the user, performs addition, subtraction, multiplication, and division, and prints the results."
      ],
      "metadata": {
        "id": "TPQ_vU71fHXO"
      }
    },
    {
      "cell_type": "code",
      "source": [
        "num1 = int(input(\"Please enter first number: \"))\n",
        "num2 = int(input(\"Please enter second number:\"))\n",
        "print(f\"Addition: {num1 + num2}\")\n",
        "print(f\"Subtraction: {num1 - num2}\")\n",
        "print(f\"Multiplication: {num1 * num2}\")\n",
        "print(f\"Division: {num1 / num2}\")"
      ],
      "metadata": {
        "colab": {
          "base_uri": "https://localhost:8080/"
        },
        "id": "gqhQqKrVfKmM",
        "outputId": "85ee5b81-f5b7-4fc2-a315-6541d09037ed"
      },
      "execution_count": null,
      "outputs": [
        {
          "output_type": "stream",
          "name": "stdout",
          "text": [
            "Please enter first number: 5\n",
            "Please enter second number:10\n",
            "Addition: 15\n",
            "Subtraction: -5\n",
            "Multiplication: 50\n",
            "Division: 0.5\n"
          ]
        }
      ]
    },
    {
      "cell_type": "markdown",
      "source": [
        "3. Write a program that converts temperature from Celsius to Fahrenheit. The user should input the temperature in Celsius, and the program should print the equivalent temperature in Fahrenheit based on the formula:\n",
        "\n",
        "  Fahrenheit=Celcius×9/5+32"
      ],
      "metadata": {
        "id": "VjhY5womRAwr"
      }
    },
    {
      "cell_type": "code",
      "source": [
        "celsius = float(input(\"Please enter temperature in Celsius: \"))"
      ],
      "metadata": {
        "id": "gRzM_EC7REU8"
      },
      "execution_count": null,
      "outputs": []
    },
    {
      "cell_type": "markdown",
      "source": [
        "4. Ask for an employee’s basic salary, allowances, and deductions, and calculate their net monthly salary based on the formula: Net Monthly Salary=Basic Salary+Allowances-Deductions"
      ],
      "metadata": {
        "id": "XPljaoC7RSaS"
      }
    },
    {
      "cell_type": "code",
      "source": [
        "print()"
      ],
      "metadata": {
        "id": "FuSLON9iRWzK"
      },
      "execution_count": null,
      "outputs": []
    },
    {
      "cell_type": "markdown",
      "source": [
        "5. Given a loan amount, interest rate, and loan tenure, calculate the monthly instalments and total interest payable based on the following formula:\n",
        "\n",
        "  Monthly Installment=Pr⁡〖(1+r)^n 〗/((1+r)^n-1)\n",
        "Total Interest Payable=Monthly Installment×n-P\n",
        "\n",
        "  Given that P refers to the loan amount, r is the monthly interest rate and n is the total number of loan tenure in months."
      ],
      "metadata": {
        "id": "z-Mkob-LRXsK"
      }
    },
    {
      "cell_type": "code",
      "source": [
        "print()"
      ],
      "metadata": {
        "id": "tJ2GF5ZoRd-S"
      },
      "execution_count": null,
      "outputs": []
    }
  ]
}